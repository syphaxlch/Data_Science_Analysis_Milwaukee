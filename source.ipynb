{
 "cells": [
  {
   "cell_type": "code",
   "execution_count": 1,
   "id": "82553b52-33bc-40ca-8c5b-6b3ad2a7efe7",
   "metadata": {},
   "outputs": [],
   "source": [
    "import pandas as pd"
   ]
  },
  {
   "cell_type": "markdown",
   "id": "5d9e13b7-e921-4380-b0f8-b8ccff365031",
   "metadata": {},
   "source": [
    "# Charger les données"
   ]
  },
  {
   "cell_type": "code",
   "execution_count": 6,
   "id": "7b9c2d87-3fb6-4c52-95f7-e8dc9a36bed9",
   "metadata": {},
   "outputs": [],
   "source": [
    "df = pd.read_csv('data_projet/MilwaukeePropertySalesData.csv')"
   ]
  },
  {
   "cell_type": "markdown",
   "id": "ae68b4e1-9302-4819-80e4-0d28b351c72c",
   "metadata": {},
   "source": [
    "# Affichage d'un aperçu des données"
   ]
  },
  {
   "cell_type": "code",
   "execution_count": 14,
   "id": "cfef951a-2d29-4f1e-a08c-e4993885e28d",
   "metadata": {},
   "outputs": [
    {
     "data": {
      "text/plain": [
       "count      5805.000000\n",
       "mean       2052.659948\n",
       "std        5753.813684\n",
       "min           0.000000\n",
       "25%        1073.000000\n",
       "50%        1368.000000\n",
       "75%        1960.000000\n",
       "max      280872.000000\n",
       "Name: FinishedSqft, dtype: float64"
      ]
     },
     "execution_count": 14,
     "metadata": {},
     "output_type": "execute_result"
    }
   ],
   "source": [
    "df['FinishedSqft'].describe()"
   ]
  },
  {
   "cell_type": "code",
   "execution_count": null,
   "id": "327cd800-a400-46f3-8ded-54b0f1cb1db6",
   "metadata": {},
   "outputs": [],
   "source": []
  }
 ],
 "metadata": {
  "kernelspec": {
   "display_name": "Python 3 (ipykernel)",
   "language": "python",
   "name": "python3"
  },
  "language_info": {
   "codemirror_mode": {
    "name": "ipython",
    "version": 3
   },
   "file_extension": ".py",
   "mimetype": "text/x-python",
   "name": "python",
   "nbconvert_exporter": "python",
   "pygments_lexer": "ipython3",
   "version": "3.12.4"
  }
 },
 "nbformat": 4,
 "nbformat_minor": 5
}
